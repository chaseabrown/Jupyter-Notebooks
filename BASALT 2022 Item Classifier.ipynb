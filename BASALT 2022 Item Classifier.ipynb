{
 "cells": [
  {
   "cell_type": "markdown",
   "id": "41b44bb5",
   "metadata": {},
   "source": [
    "# BASALT 2022 Inventory Item Classifier\n",
    "\n",
    "## Background\n",
    "I am working on potential solutions for https://www.aicrowd.com/challenges/neurips-2022-minerl-basalt-competition. The goal of this classifier is to extract a bit of information about the inverntory. In this case, I am attempting to fill a dictionary of all the items in the inventory. When I play minecraft, an understanding of what is in my inventory as I play is very important. My model would have no way of knowing what is in its inventory without having it open otherwise. \n",
    "\n",
    "## Data Mining\n",
    "In order to get the data to train this model on, I used a list of items that are in the 1.16 minecraft version. With that, I looped through the list and started a new gym environment that spawned in the game with each item at each quanitity. After I had images of all the inventories from this loop, I broke it into pieces of each inventory square. From there, I saved that image file as the name of the item and the quantity. After I had that, I went right into the code below.\n",
    "\n",
    "## Model Code\n",
    "\n",
    "### Imports"
   ]
  },
  {
   "cell_type": "code",
   "execution_count": 1,
   "id": "dea26ef9",
   "metadata": {},
   "outputs": [],
   "source": [
    "import os\n",
    "import numpy as np\n",
    "from PIL import Image\n",
    "from sklearn.naive_bayes import GaussianNB\n",
    "from detecto import core, utils, visualize\n",
    "import matplotlib.pyplot as plt\n",
    "import cv2\n",
    "import gdown"
   ]
  },
  {
   "cell_type": "markdown",
   "id": "ec13fa99",
   "metadata": {},
   "source": [
    "### Helper Functions"
   ]
  },
  {
   "cell_type": "code",
   "execution_count": 2,
   "id": "42224ecd",
   "metadata": {},
   "outputs": [],
   "source": [
    "def create_dataset_items(img_folder):\n",
    "    \n",
    "    img_data_array=[]\n",
    "    class_name=[]\n",
    "    for file in os.listdir(img_folder):    \n",
    "        if \".jpg\" in file:\n",
    "            image_path= os.path.join(img_folder, file)\n",
    "            image= np.array(Image.open(image_path))\n",
    "            image = image.astype('float32')\n",
    "            image /= 255  \n",
    "            img_data_array.append(image)\n",
    "            class_name.append(file.split(\"-\")[0])\n",
    "    return img_data_array , class_name"
   ]
  },
  {
   "cell_type": "code",
   "execution_count": 3,
   "id": "865c2ac4",
   "metadata": {},
   "outputs": [],
   "source": [
    "def load_item_train_data():\n",
    "    trainPath = \"../assets/datasets/Item Classifier Data/train/\"\n",
    "\n",
    "    xTrainData, yTrainData = create_dataset_items(trainPath)\n",
    "\n",
    "    uniqueOutputs = []\n",
    "    for y in yTrainData:\n",
    "        if not y in uniqueOutputs:\n",
    "            uniqueOutputs.append(y)\n",
    "\n",
    "    toNumDict = {uniqueOutputs[i]: i for i in range(len(uniqueOutputs))}\n",
    "    fromNumDict = {i: uniqueOutputs[i] for i in range(len(uniqueOutputs))}\n",
    "\n",
    "\n",
    "    yNumTrain = [toNumDict[y] for y in yTrainData]\n",
    "\n",
    "\n",
    "    xTrainData = np.array(xTrainData, np.float32)\n",
    "    y_train = np.array(list(map(int,yNumTrain)), np.int64)\n",
    "\n",
    "    n_samples_train = len(xTrainData)\n",
    "    x_train = xTrainData.reshape((n_samples_train, -1))\n",
    "\n",
    "    return x_train, y_train, fromNumDict, toNumDict"
   ]
  },
  {
   "cell_type": "code",
   "execution_count": 4,
   "id": "cd512f60",
   "metadata": {},
   "outputs": [],
   "source": [
    "def load_item_test_data():\n",
    "    testPath = \"../assets/datasets/Item Classifier Data/test/\"\n",
    "\n",
    "    xTestData, yTestData = create_dataset_items(testPath)\n",
    "\n",
    "    xTestData = np.array(xTestData, np.float32)\n",
    "    y_test = yTestData\n",
    "\n",
    "    n_samples_test = len(xTestData)\n",
    "    x_test = xTestData.reshape((n_samples_test, -1))\n",
    "\n",
    "    return x_test, y_test"
   ]
  },
  {
   "cell_type": "markdown",
   "id": "fc98a141",
   "metadata": {},
   "source": [
    "### Build Model\n",
    "Keep in mind, I tested this on 4-5 different machine learning models outside of this notebook. For this problem, SkLearn's Gaussian Naive Bayes model worked best and that is what I used."
   ]
  },
  {
   "cell_type": "code",
   "execution_count": 5,
   "id": "223475fd",
   "metadata": {},
   "outputs": [],
   "source": [
    "model = GaussianNB()"
   ]
  },
  {
   "cell_type": "markdown",
   "id": "da6c92e6",
   "metadata": {},
   "source": [
    "### Train Model"
   ]
  },
  {
   "cell_type": "code",
   "execution_count": 6,
   "id": "9e7faf78",
   "metadata": {},
   "outputs": [
    {
     "data": {
      "text/html": [
       "<style>#sk-container-id-1 {color: black;background-color: white;}#sk-container-id-1 pre{padding: 0;}#sk-container-id-1 div.sk-toggleable {background-color: white;}#sk-container-id-1 label.sk-toggleable__label {cursor: pointer;display: block;width: 100%;margin-bottom: 0;padding: 0.3em;box-sizing: border-box;text-align: center;}#sk-container-id-1 label.sk-toggleable__label-arrow:before {content: \"▸\";float: left;margin-right: 0.25em;color: #696969;}#sk-container-id-1 label.sk-toggleable__label-arrow:hover:before {color: black;}#sk-container-id-1 div.sk-estimator:hover label.sk-toggleable__label-arrow:before {color: black;}#sk-container-id-1 div.sk-toggleable__content {max-height: 0;max-width: 0;overflow: hidden;text-align: left;background-color: #f0f8ff;}#sk-container-id-1 div.sk-toggleable__content pre {margin: 0.2em;color: black;border-radius: 0.25em;background-color: #f0f8ff;}#sk-container-id-1 input.sk-toggleable__control:checked~div.sk-toggleable__content {max-height: 200px;max-width: 100%;overflow: auto;}#sk-container-id-1 input.sk-toggleable__control:checked~label.sk-toggleable__label-arrow:before {content: \"▾\";}#sk-container-id-1 div.sk-estimator input.sk-toggleable__control:checked~label.sk-toggleable__label {background-color: #d4ebff;}#sk-container-id-1 div.sk-label input.sk-toggleable__control:checked~label.sk-toggleable__label {background-color: #d4ebff;}#sk-container-id-1 input.sk-hidden--visually {border: 0;clip: rect(1px 1px 1px 1px);clip: rect(1px, 1px, 1px, 1px);height: 1px;margin: -1px;overflow: hidden;padding: 0;position: absolute;width: 1px;}#sk-container-id-1 div.sk-estimator {font-family: monospace;background-color: #f0f8ff;border: 1px dotted black;border-radius: 0.25em;box-sizing: border-box;margin-bottom: 0.5em;}#sk-container-id-1 div.sk-estimator:hover {background-color: #d4ebff;}#sk-container-id-1 div.sk-parallel-item::after {content: \"\";width: 100%;border-bottom: 1px solid gray;flex-grow: 1;}#sk-container-id-1 div.sk-label:hover label.sk-toggleable__label {background-color: #d4ebff;}#sk-container-id-1 div.sk-serial::before {content: \"\";position: absolute;border-left: 1px solid gray;box-sizing: border-box;top: 0;bottom: 0;left: 50%;z-index: 0;}#sk-container-id-1 div.sk-serial {display: flex;flex-direction: column;align-items: center;background-color: white;padding-right: 0.2em;padding-left: 0.2em;position: relative;}#sk-container-id-1 div.sk-item {position: relative;z-index: 1;}#sk-container-id-1 div.sk-parallel {display: flex;align-items: stretch;justify-content: center;background-color: white;position: relative;}#sk-container-id-1 div.sk-item::before, #sk-container-id-1 div.sk-parallel-item::before {content: \"\";position: absolute;border-left: 1px solid gray;box-sizing: border-box;top: 0;bottom: 0;left: 50%;z-index: -1;}#sk-container-id-1 div.sk-parallel-item {display: flex;flex-direction: column;z-index: 1;position: relative;background-color: white;}#sk-container-id-1 div.sk-parallel-item:first-child::after {align-self: flex-end;width: 50%;}#sk-container-id-1 div.sk-parallel-item:last-child::after {align-self: flex-start;width: 50%;}#sk-container-id-1 div.sk-parallel-item:only-child::after {width: 0;}#sk-container-id-1 div.sk-dashed-wrapped {border: 1px dashed gray;margin: 0 0.4em 0.5em 0.4em;box-sizing: border-box;padding-bottom: 0.4em;background-color: white;}#sk-container-id-1 div.sk-label label {font-family: monospace;font-weight: bold;display: inline-block;line-height: 1.2em;}#sk-container-id-1 div.sk-label-container {text-align: center;}#sk-container-id-1 div.sk-container {/* jupyter's `normalize.less` sets `[hidden] { display: none; }` but bootstrap.min.css set `[hidden] { display: none !important; }` so we also need the `!important` here to be able to override the default hidden behavior on the sphinx rendered scikit-learn.org. See: https://github.com/scikit-learn/scikit-learn/issues/21755 */display: inline-block !important;position: relative;}#sk-container-id-1 div.sk-text-repr-fallback {display: none;}</style><div id=\"sk-container-id-1\" class=\"sk-top-container\"><div class=\"sk-text-repr-fallback\"><pre>GaussianNB()</pre><b>In a Jupyter environment, please rerun this cell to show the HTML representation or trust the notebook. <br />On GitHub, the HTML representation is unable to render, please try loading this page with nbviewer.org.</b></div><div class=\"sk-container\" hidden><div class=\"sk-item\"><div class=\"sk-estimator sk-toggleable\"><input class=\"sk-toggleable__control sk-hidden--visually\" id=\"sk-estimator-id-1\" type=\"checkbox\" checked><label for=\"sk-estimator-id-1\" class=\"sk-toggleable__label sk-toggleable__label-arrow\">GaussianNB</label><div class=\"sk-toggleable__content\"><pre>GaussianNB()</pre></div></div></div></div></div>"
      ],
      "text/plain": [
       "GaussianNB()"
      ]
     },
     "execution_count": 6,
     "metadata": {},
     "output_type": "execute_result"
    }
   ],
   "source": [
    "x_train, y_train, fromNumDict, toNumDict = load_item_train_data()\n",
    "\n",
    "model.fit(x_train, y_train)"
   ]
  },
  {
   "cell_type": "markdown",
   "id": "cb0fa413",
   "metadata": {},
   "source": [
    "### Test Model"
   ]
  },
  {
   "cell_type": "code",
   "execution_count": 7,
   "id": "3de1026e",
   "metadata": {
    "scrolled": false
   },
   "outputs": [
    {
     "name": "stdout",
     "output_type": "stream",
     "text": [
      "red_mushroom brown_mushroom\n",
      "empty stone_pressure_plate\n",
      "red_mushroom brown_mushroom\n",
      "tripwire_hook red_mushroom\n",
      "brown_mushroom red_mushroom\n",
      "brown_mushroom red_mushroom\n",
      "dispenser dropper\n",
      "dispenser dropper\n",
      "empty tripwire_hook\n",
      "stone_pressure_plate red_mushroom\n",
      "dispenser dropper\n",
      "dispenser dropper\n",
      "empty stone_pressure_plate\n",
      "stone_pressure_plate red_mushroom\n",
      "chest trapped_chest\n",
      "chest trapped_chest\n",
      "dispenser dropper\n",
      "stone_pressure_plate red_mushroom\n",
      "brown_mushroom red_mushroom\n",
      "chest trapped_chest\n",
      "dispenser dropper\n",
      "dispenser dropper\n",
      "chest trapped_chest\n",
      "dispenser dropper\n",
      "chest trapped_chest\n",
      "stone_pressure_plate red_mushroom\n",
      "chest trapped_chest\n",
      "dispenser dropper\n",
      "empty tripwire_hook\n",
      "heavy_weighted_pressure_plate light_weighted_pressure_plate\n",
      "empty tripwire_hook\n",
      "brown_mushroom red_mushroom\n",
      "red_mushroom brown_mushroom\n",
      "empty stone_pressure_plate\n",
      "stone_pressure_plate red_mushroom\n",
      "dispenser dropper\n",
      "empty stone_pressure_plate\n",
      "dispenser dropper\n",
      "dispenser dropper\n",
      "tripwire_hook red_mushroom\n",
      "tripwire_hook red_mushroom\n",
      "\n",
      "Accuracy of Item Classifier:  0.9812956204379562\n"
     ]
    }
   ],
   "source": [
    "x_test, y_test = load_item_test_data()\n",
    "\n",
    "predicted = []\n",
    "for pred in model.predict(x_test):\n",
    "    predicted.append(fromNumDict[pred])\n",
    "            \n",
    "            \n",
    "numCorrect = 0\n",
    "for i in range(0, len(y_test)):\n",
    "    if not y_test[i] == predicted[i]:\n",
    "        print(y_test[i], predicted[i])\n",
    "    else:\n",
    "        numCorrect += 1\n",
    "    \n",
    "print(\"\\nAccuracy of Item Classifier: \", numCorrect/len(y_test))"
   ]
  },
  {
   "cell_type": "markdown",
   "id": "20fe4fd4",
   "metadata": {},
   "source": [
    "### Conclusion\n",
    "This model was very effective at solving the item classification problem. While 98% accuracy is how the model scored in testing, it is actually higher than that because some items look exactly the same. For example, chests and trapped chests look exactly the same so it isn't fair to penalize the model for this."
   ]
  }
 ],
 "metadata": {
  "kernelspec": {
   "display_name": "Python 3",
   "language": "python",
   "name": "python3"
  },
  "language_info": {
   "codemirror_mode": {
    "name": "ipython",
    "version": 3
   },
   "file_extension": ".py",
   "mimetype": "text/x-python",
   "name": "python",
   "nbconvert_exporter": "python",
   "pygments_lexer": "ipython3",
   "version": "3.9.12"
  }
 },
 "nbformat": 4,
 "nbformat_minor": 5
}
