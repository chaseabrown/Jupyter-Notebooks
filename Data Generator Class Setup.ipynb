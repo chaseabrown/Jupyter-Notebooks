{
 "cells": [
  {
   "cell_type": "markdown",
   "id": "3659ce4d",
   "metadata": {},
   "source": [
    "# BASALT 2022 Data Generator Class Setup\n",
    "\n",
    "## Background\n",
    "I am working on potential solutions for https://www.aicrowd.com/challenges/neurips-2022-minerl-basalt-competition. The goal of this generator is to feed data to MoveClassifier.py\n",
    "\n",
    "## Code\n",
    "\n",
    "### Imports"
   ]
  },
  {
   "cell_type": "code",
   "execution_count": 1,
   "id": "208c7e7a",
   "metadata": {},
   "outputs": [],
   "source": [
    "import os\n",
    "import cv2\n",
    "import json\n",
    "import numpy as np\n",
    "from IPython.display import Image\n",
    "import PIL\n",
    "import pandas as pd\n",
    "from tqdm import tqdm\n",
    "from random import randint, shuffle\n",
    "import random\n",
    "import sys\n",
    "import keras"
   ]
  },
  {
   "cell_type": "code",
   "execution_count": 2,
   "id": "940d25c6",
   "metadata": {},
   "outputs": [],
   "source": [
    "def gatherData(dataPathList, framesViewed):\n",
    "    folders = []\n",
    "    images = []\n",
    "    labels = {\"attack\": [], \n",
    "               \"forward\": [], \n",
    "               \"back\": [], \n",
    "               \"left\": [], \n",
    "               \"right\": [], \n",
    "               \"jump\": [], \n",
    "               \"sneak\": [], \n",
    "               \"sprint\": [], \n",
    "               \"use\": [], \n",
    "               \"drop\": [], \n",
    "               \"inventory\": [], \n",
    "               \"hotbar\": [], \n",
    "               \"camera1\": [], \n",
    "               \"camera2\": []}\n",
    "    \n",
    "    for dataPath in dataPathList:\n",
    "        for folder in os.listdir(dataPath):\n",
    "            folders.append(dataPath + folder)\n",
    "            if not \".DS_Store\" in folder:\n",
    "                newMoves = pd.read_csv(dataPath + folder + \"/moves.csv\")\n",
    "                for index, move in newMoves.iterrows():\n",
    "                    framesToInclude = []\n",
    "                    for i in range(0, framesViewed):\n",
    "                        framesToInclude.append(dataPath + folder + \"/\" + str(int(move[\"startImage\"] + i)) + \".jpg\")\n",
    "                    images.append(framesToInclude)\n",
    "                    labels[\"attack\"].append(move[\"attack\"])\n",
    "                    labels[\"forward\"].append(move[\"forward\"])\n",
    "                    labels[\"back\"].append(move[\"back\"])\n",
    "                    labels[\"left\"].append(move[\"left\"])\n",
    "                    labels[\"right\"].append(move[\"right\"])\n",
    "                    labels[\"jump\"].append(move[\"jump\"])\n",
    "                    labels[\"sneak\"].append(move[\"sneak\"])\n",
    "                    labels[\"sprint\"].append(move[\"sprint\"])\n",
    "                    labels[\"use\"].append(move[\"use\"])\n",
    "                    labels[\"drop\"].append(move[\"drop\"])\n",
    "                    labels[\"inventory\"].append(move[\"inventory\"])\n",
    "                    labels[\"hotbar\"].append(move[\"hotbar\"])\n",
    "                    labels[\"camera1\"].append(move[\"camera1\"])\n",
    "                    labels[\"camera2\"].append(move[\"camera2\"])\n",
    "                    \n",
    "    return images, labels"
   ]
  },
  {
   "cell_type": "code",
   "execution_count": 3,
   "id": "292d1757",
   "metadata": {},
   "outputs": [],
   "source": [
    "class Generator2Images(keras.utils.Sequence):\n",
    "    \n",
    "    def __init__(self, images, labels,\n",
    "                 batch_size,\n",
    "                 inputShape=(640, 360, 3),\n",
    "                 shuffle=True):\n",
    "\n",
    "        self.images = images\n",
    "        self.labels = labels\n",
    "        self.batch_size = batch_size\n",
    "        self.inputShape = inputShape\n",
    "        self.shuffle = shuffle\n",
    "        self.imageSize = inputShape[0], inputShape[1]\n",
    "        \n",
    "        self.n = len(self.labels)\n",
    "\n",
    "        \n",
    "    def __get_input(self, path):\n",
    "        image = PIL.Image.open(path)\n",
    "        image.thumbnail(self.imageSize, PIL.Image.ANTIALIAS)\n",
    "        image = np.array(image)\n",
    "        image = image.astype('float32')\n",
    "\n",
    "        return image/255.\n",
    "    \n",
    "    def on_epoch_end(self):\n",
    "        if self.shuffle:\n",
    "            temp = list(zip(self.images, self.labels))\n",
    "            random.shuffle(temp)\n",
    "            res1, res2 = zip(*temp)\n",
    "            # res1 and res2 come out as tuples, and so must be converted to lists.\n",
    "            self.images, self.labels = list(res1), list(res2)\n",
    "    \n",
    "    def __getitem__(self, index):\n",
    "\n",
    "        imageBatch = self.images[index * self.batch_size:(index + 1) * self.batch_size]\n",
    "        labelBatch = self.labels[index * self.batch_size:(index + 1) * self.batch_size]\n",
    "        X, y = self.__get_data(imageBatch, labelBatch)        \n",
    "        return X, y\n",
    "    \n",
    "    def test_getitem(self, index):\n",
    "        return self.__getitem__(index)\n",
    "    \n",
    "    def __len__(self):\n",
    "        return self.n // self.batch_size\n",
    "    \n",
    "    def __get_output(self, startImages, endImages, labelBatch):\n",
    "        \n",
    "        X1 = np.array(startImages, np.float32)\n",
    "        X2 = np.array(endImages, np.float32)\n",
    "\n",
    "        Y = np.array(list(map(int,labelBatch)), np.int64)\n",
    "        \n",
    "        return X1, X2, Y\n",
    "\n",
    "    def __get_data(self, imageBatch, labelBatch):\n",
    "        # Generates data containing batch_size samples\n",
    "        \n",
    "        startImages = []\n",
    "        endImages = []\n",
    "        for imagePaths in imageBatch:\n",
    "            startImages.append(self.__get_input(imagePaths[0]))\n",
    "            endImages.append(self.__get_input(imagePaths[1]))\n",
    "        \n",
    "        X1, X2, Y = self.__get_output(startImages, endImages, labelBatch)\n",
    "\n",
    "        return tuple([[X1, X2], Y])\n"
   ]
  },
  {
   "cell_type": "code",
   "execution_count": 4,
   "id": "d2e38e35",
   "metadata": {},
   "outputs": [],
   "source": [
    "class Generator1Image(keras.utils.Sequence):\n",
    "    \n",
    "    def __init__(self, images, labels,\n",
    "                 batch_size,\n",
    "                 inputShape=(640, 360, 3),\n",
    "                 shuffle=True):\n",
    "\n",
    "        self.images = images\n",
    "        self.labels = labels\n",
    "        self.batch_size = batch_size\n",
    "        self.inputShape = inputShape\n",
    "        self.shuffle = shuffle\n",
    "        self.imageSize = inputShape[0], inputShape[1]\n",
    "        \n",
    "        self.n = len(self.labels)\n",
    "\n",
    "        \n",
    "    def __get_input(self, path):\n",
    "\n",
    "        image = PIL.Image.open(path)\n",
    "        image.thumbnail(self.imageSize, PIL.Image.ANTIALIAS)\n",
    "        image = np.array(image)\n",
    "        image = image.astype('float32')\n",
    "\n",
    "        return image/255.\n",
    "    \n",
    "    def on_epoch_end(self):\n",
    "        if self.shuffle:\n",
    "            temp = list(zip(self.images, self.labels))\n",
    "            random.shuffle(temp)\n",
    "            res1, res2 = zip(*temp)\n",
    "            # res1 and res2 come out as tuples, and so must be converted to lists.\n",
    "            self.images, self.labels = list(res1), list(res2)\n",
    "    \n",
    "    def __getitem__(self, index):\n",
    "\n",
    "        imageBatch = self.images[index * self.batch_size:(index + 1) * self.batch_size]\n",
    "        labelBatch = self.labels[index * self.batch_size:(index + 1) * self.batch_size]\n",
    "        X, y = self.__get_data(imageBatch, labelBatch)        \n",
    "        return X, y\n",
    "    \n",
    "    def test_getitem(self, index):\n",
    "        return self.__getitem__(index)\n",
    "    \n",
    "    def __len__(self):\n",
    "        return self.n // self.batch_size\n",
    "    \n",
    "    def __get_output(self, startImages, labelBatch):\n",
    "        \n",
    "        X1 = np.array(startImages, np.float32)\n",
    "\n",
    "        Y = np.array(list(map(int,labelBatch)), np.int64)\n",
    "        \n",
    "        return X1, Y\n",
    "\n",
    "    def __get_data(self, imageBatch, labelBatch):\n",
    "        # Generates data containing batch_size samples\n",
    "        \n",
    "        startImages = []\n",
    "        for imagePaths in imageBatch:\n",
    "            startImages.append(self.__get_input(imagePaths[0]))\n",
    "        \n",
    "        X1, Y = self.__get_output(startImages, labelBatch)\n",
    "\n",
    "        return tuple([X1, Y])"
   ]
  },
  {
   "cell_type": "code",
   "execution_count": 5,
   "id": "50b183a3",
   "metadata": {},
   "outputs": [],
   "source": [
    "DATAPATHS = [\"../assets/datasets/Move Classifier Data/MineRLBasaltFindCave-v0/\", \n",
    "                            \"../assets/datasets/Move Classifier Data/MineRLBasaltBuildVillageHouse-v0/\", \n",
    "                            \"../assets/datasets/Move Classifier Data/MineRLBasaltCreateVillageAnimalPen-v0/\", \n",
    "                            \"../assets/datasets/Move Classifier Data/MineRLBasaltMakeWaterfall-v0/\"]\n",
    "images, labels = gatherData(DATAPATHS, 1)\n",
    "temp = list(zip(images, labels[\"attack\"]))\n",
    "random.shuffle(temp)\n",
    "res1, res2 = zip(*temp)\n",
    "# res1 and res2 come out as tuples, and so must be converted to lists.\n",
    "images, labels = list(res1), list(res2)\n",
    "\n",
    "X_train = images[:int(len(images) * 0.8)]\n",
    "Y_train = labels[:int(len(labels) * 0.8)]\n",
    "X_val = images[int(len(images) * 0.8):]\n",
    "Y_val = labels[int(len(labels) * 0.8):]\n",
    "\n",
    "generator = Generator1Image(X_train, Y_train, batch_size=16)\n",
    "val_generator = Generator1Image(X_val, Y_val, batch_size=16)"
   ]
  },
  {
   "cell_type": "code",
   "execution_count": 6,
   "id": "076db80f",
   "metadata": {},
   "outputs": [],
   "source": [
    "X, Y = generator.test_getitem(1)"
   ]
  },
  {
   "cell_type": "code",
   "execution_count": 7,
   "id": "e1f12f85",
   "metadata": {},
   "outputs": [
    {
     "name": "stdout",
     "output_type": "stream",
     "text": [
      "16\n"
     ]
    }
   ],
   "source": [
    "print(len(X))"
   ]
  },
  {
   "cell_type": "code",
   "execution_count": 8,
   "id": "0adb0d44",
   "metadata": {},
   "outputs": [
    {
     "name": "stdout",
     "output_type": "stream",
     "text": [
      "360\n"
     ]
    }
   ],
   "source": [
    "print(len(X[0]))"
   ]
  },
  {
   "cell_type": "code",
   "execution_count": 9,
   "id": "475d7388",
   "metadata": {},
   "outputs": [
    {
     "name": "stdout",
     "output_type": "stream",
     "text": [
      "16\n"
     ]
    }
   ],
   "source": [
    "print(len(Y))"
   ]
  },
  {
   "cell_type": "code",
   "execution_count": 12,
   "id": "5ed3dbda",
   "metadata": {},
   "outputs": [
    {
     "name": "stdout",
     "output_type": "stream",
     "text": [
      "<class 'numpy.ndarray'> <class 'numpy.ndarray'> (16, 360, 640, 3) <class 'numpy.float32'>\n",
      "<class 'numpy.ndarray'> <class 'numpy.ndarray'> (360, 640, 3) <class 'numpy.float32'>\n"
     ]
    }
   ],
   "source": [
    "print(type(X), type(X[0]), X.shape, type(X[0][0][0][0]))\n",
    "print(type(X), type(X[1]), X[1].shape, type(X[0][0][0][0]))"
   ]
  },
  {
   "cell_type": "code",
   "execution_count": 13,
   "id": "cabb72f5",
   "metadata": {},
   "outputs": [
    {
     "name": "stdout",
     "output_type": "stream",
     "text": [
      "<class 'numpy.ndarray'> (16,) <class 'numpy.int64'>\n"
     ]
    }
   ],
   "source": [
    "print(type(Y), Y.shape, type(Y[0]))"
   ]
  },
  {
   "cell_type": "code",
   "execution_count": 14,
   "id": "f46b69fd",
   "metadata": {},
   "outputs": [],
   "source": [
    "X, Y = val_generator.test_getitem(1)"
   ]
  },
  {
   "cell_type": "code",
   "execution_count": 15,
   "id": "cd8483ee",
   "metadata": {},
   "outputs": [
    {
     "name": "stdout",
     "output_type": "stream",
     "text": [
      "16\n"
     ]
    }
   ],
   "source": [
    "print(len(X))"
   ]
  },
  {
   "cell_type": "code",
   "execution_count": 16,
   "id": "56ecaa37",
   "metadata": {},
   "outputs": [
    {
     "name": "stdout",
     "output_type": "stream",
     "text": [
      "360\n"
     ]
    }
   ],
   "source": [
    "print(len(X[0]))"
   ]
  },
  {
   "cell_type": "code",
   "execution_count": 17,
   "id": "071470c7",
   "metadata": {},
   "outputs": [
    {
     "name": "stdout",
     "output_type": "stream",
     "text": [
      "16\n"
     ]
    }
   ],
   "source": [
    "print(len(Y))"
   ]
  },
  {
   "cell_type": "code",
   "execution_count": 19,
   "id": "c0346d39",
   "metadata": {},
   "outputs": [
    {
     "name": "stdout",
     "output_type": "stream",
     "text": [
      "<class 'numpy.ndarray'> <class 'numpy.ndarray'> (16, 360, 640, 3) <class 'numpy.float32'>\n",
      "<class 'numpy.ndarray'> <class 'numpy.ndarray'> (360, 640, 3) <class 'numpy.float32'>\n"
     ]
    }
   ],
   "source": [
    "print(type(X), type(X[0]), X.shape, type(X[0][0][0][0]))\n",
    "print(type(X), type(X[1]), X[1].shape, type(X[0][0][0][0]))"
   ]
  },
  {
   "cell_type": "code",
   "execution_count": 20,
   "id": "eadbc9f2",
   "metadata": {},
   "outputs": [
    {
     "name": "stdout",
     "output_type": "stream",
     "text": [
      "<class 'numpy.ndarray'> (16,) <class 'numpy.int64'>\n"
     ]
    }
   ],
   "source": [
    "print(type(Y), Y.shape, type(Y[0]))"
   ]
  },
  {
   "cell_type": "code",
   "execution_count": null,
   "id": "2a821ff9",
   "metadata": {},
   "outputs": [],
   "source": []
  }
 ],
 "metadata": {
  "kernelspec": {
   "display_name": "Python 3 (ipykernel)",
   "language": "python",
   "name": "python3"
  },
  "language_info": {
   "codemirror_mode": {
    "name": "ipython",
    "version": 3
   },
   "file_extension": ".py",
   "mimetype": "text/x-python",
   "name": "python",
   "nbconvert_exporter": "python",
   "pygments_lexer": "ipython3",
   "version": "3.9.13"
  }
 },
 "nbformat": 4,
 "nbformat_minor": 5
}
